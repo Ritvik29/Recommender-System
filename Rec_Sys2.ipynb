{
 "cells": [
  {
   "cell_type": "markdown",
   "metadata": {},
   "source": [
    "## Content Based Recommendation"
   ]
  },
  {
   "cell_type": "code",
   "execution_count": 1,
   "metadata": {},
   "outputs": [],
   "source": [
    "import pandas as pd\n",
    "from sklearn.model_selection import train_test_split\n",
    "import ast\n",
    "import json\n",
    "import numpy as np\n",
    "from numpy import genfromtxt\n",
    "from datetime import datetime\n",
    "from sklearn.feature_extraction.text import CountVectorizer\n",
    "from sklearn.metrics.pairwise import cosine_similarity\n",
    "import sklearn\n",
    "from sklearn.metrics import precision_score, recall_score\n"
   ]
  },
  {
   "cell_type": "code",
   "execution_count": 2,
   "metadata": {},
   "outputs": [],
   "source": [
    "df_clicks = pd.read_parquet('data/clicks.parquet')\n",
    "df_stores = pd.read_parquet('data/stores.parquet')\n",
    "df_users = pd.read_parquet('data/users.parquet')"
   ]
  },
  {
   "cell_type": "code",
   "execution_count": 3,
   "metadata": {},
   "outputs": [
    {
     "data": {
      "text/plain": [
       "'0.24.1'"
      ]
     },
     "execution_count": 3,
     "metadata": {},
     "output_type": "execute_result"
    }
   ],
   "source": [
    "sklearn.__version__"
   ]
  },
  {
   "cell_type": "markdown",
   "metadata": {},
   "source": [
    "## Helper Functions"
   ]
  },
  {
   "cell_type": "code",
   "execution_count": 4,
   "metadata": {},
   "outputs": [],
   "source": [
    "\n",
    "\n",
    "def get_cashback(x):\n",
    "    if x in ('최대 4.0% 캐시백',\n",
    "             '최대 1.5% 캐시백',\n",
    "             '최대 1.0% 캐시백', \n",
    "             '최대 3.0% 캐시백',\n",
    "             '최대 2.0% 캐시백',\n",
    "             '최대 2.5% 캐시백',\n",
    "             '최대 3.5% 캐시백',\n",
    "             '최대 4.0% 캐시백',\n",
    "             '최대 5.0% 캐시백',\n",
    "             '최대 5.5% 캐시백',\n",
    "             '최대 6.0% 캐시백',\n",
    "             '최대 7.0% 캐시백',\n",
    "            '최대 7.5% 캐시백',\n",
    "             '최대 10.0% 캐시백',\n",
    "             '최대 14.0% 캐시백',\n",
    "            '최대 0.5% 캐시백',\n",
    "            \"최대 18000원 캐시백\"):\n",
    "        return x.split(' ')[1]\n",
    "    elif x in ('캐시백 적립불가'):\n",
    "        return '0%'\n",
    "    else:\n",
    "        return x.split(' ')[0]\n",
    "\n",
    "\n",
    "\n",
    "\n",
    "def get_title_from_index(index,df):\n",
    "    return df[df[\"index\"]==index][\"user_id\"].values[0]\n",
    "\n",
    "def get_index_from_title(user_id,df):\n",
    "    return df[df[\"user_id\"]==user_id][\"index\"].values[0]\n",
    "\n",
    "\n",
    "\n",
    "def combined_features(row):\n",
    "    return str(row['user_id']) + \" \"+ str(row[\"customer_age\"]) + \\\n",
    "\" \" + row[\"channel\"] + row[\"account_referral\"] +\" \" + row[\"device\"]  + \" \"\\\n",
    "+ row[\"platform\"]  + str(row[\"is_new_user\"]) + str(row[\"cashback\"])\n",
    "\n",
    "    \n",
    "\n",
    "def get_nearest_user(query,df4U):    \n",
    "    df4U[\"index\"] = range(len(df4U))\n",
    "    user_index = get_index_from_title(query,df4U)\n",
    "    similar_users = list(enumerate(cosine_sim[user_index]))\n",
    "\n",
    "\n",
    "    sorted_similar_users = sorted(similar_users,key=lambda x:x[1],reverse = True)\n",
    "    i = 0\n",
    "    similar_users = []\n",
    "    for x in sorted_similar_users:\n",
    "        sim_user = get_title_from_index(x[0],df4U)\n",
    "        i+=1\n",
    "        similar_users.append(sim_user)\n",
    "        if i>10:\n",
    "            break\n",
    "    return similar_users\n",
    "\n",
    "\n",
    "\n",
    "\n"
   ]
  },
  {
   "cell_type": "code",
   "execution_count": 5,
   "metadata": {},
   "outputs": [
    {
     "data": {
      "text/html": [
       "<div>\n",
       "<style scoped>\n",
       "    .dataframe tbody tr th:only-of-type {\n",
       "        vertical-align: middle;\n",
       "    }\n",
       "\n",
       "    .dataframe tbody tr th {\n",
       "        vertical-align: top;\n",
       "    }\n",
       "\n",
       "    .dataframe thead th {\n",
       "        text-align: right;\n",
       "    }\n",
       "</style>\n",
       "<table border=\"1\" class=\"dataframe\">\n",
       "  <thead>\n",
       "    <tr style=\"text-align: right;\">\n",
       "      <th></th>\n",
       "      <th>index</th>\n",
       "      <th>id</th>\n",
       "      <th>user_id</th>\n",
       "      <th>store_id</th>\n",
       "      <th>device</th>\n",
       "      <th>platform</th>\n",
       "      <th>channel</th>\n",
       "      <th>created_at</th>\n",
       "    </tr>\n",
       "  </thead>\n",
       "  <tbody>\n",
       "    <tr>\n",
       "      <th>0</th>\n",
       "      <td>1242765</td>\n",
       "      <td>732810</td>\n",
       "      <td>28349</td>\n",
       "      <td>366</td>\n",
       "      <td>app_ios</td>\n",
       "      <td>iOS App</td>\n",
       "      <td>Direct</td>\n",
       "      <td>2021-02-03 23:47:27</td>\n",
       "    </tr>\n",
       "    <tr>\n",
       "      <th>1</th>\n",
       "      <td>400439</td>\n",
       "      <td>1367874</td>\n",
       "      <td>3553</td>\n",
       "      <td>424</td>\n",
       "      <td>mobile_android</td>\n",
       "      <td>Web</td>\n",
       "      <td>Display</td>\n",
       "      <td>2021-03-07 15:52:05</td>\n",
       "    </tr>\n",
       "    <tr>\n",
       "      <th>2</th>\n",
       "      <td>224227</td>\n",
       "      <td>1401055</td>\n",
       "      <td>53657</td>\n",
       "      <td>165</td>\n",
       "      <td>desktop</td>\n",
       "      <td>Web</td>\n",
       "      <td>Referral</td>\n",
       "      <td>2021-03-09 13:17:56</td>\n",
       "    </tr>\n",
       "    <tr>\n",
       "      <th>3</th>\n",
       "      <td>1628751</td>\n",
       "      <td>867093</td>\n",
       "      <td>236031</td>\n",
       "      <td>36</td>\n",
       "      <td>extension</td>\n",
       "      <td>Browser Extension</td>\n",
       "      <td>Extension</td>\n",
       "      <td>2021-02-09 12:57:00</td>\n",
       "    </tr>\n",
       "    <tr>\n",
       "      <th>4</th>\n",
       "      <td>34010</td>\n",
       "      <td>568663</td>\n",
       "      <td>3021</td>\n",
       "      <td>36</td>\n",
       "      <td>app_android</td>\n",
       "      <td>Android App</td>\n",
       "      <td>paid_ins_organic</td>\n",
       "      <td>2021-01-27 00:05:40</td>\n",
       "    </tr>\n",
       "  </tbody>\n",
       "</table>\n",
       "</div>"
      ],
      "text/plain": [
       "     index       id  user_id  store_id          device           platform  \\\n",
       "0  1242765   732810    28349       366         app_ios            iOS App   \n",
       "1   400439  1367874     3553       424  mobile_android                Web   \n",
       "2   224227  1401055    53657       165         desktop                Web   \n",
       "3  1628751   867093   236031        36       extension  Browser Extension   \n",
       "4    34010   568663     3021        36     app_android        Android App   \n",
       "\n",
       "            channel           created_at  \n",
       "0            Direct  2021-02-03 23:47:27  \n",
       "1           Display  2021-03-07 15:52:05  \n",
       "2          Referral  2021-03-09 13:17:56  \n",
       "3         Extension  2021-02-09 12:57:00  \n",
       "4  paid_ins_organic  2021-01-27 00:05:40  "
      ]
     },
     "execution_count": 5,
     "metadata": {},
     "output_type": "execute_result"
    }
   ],
   "source": [
    "df_clicks.head()"
   ]
  },
  {
   "cell_type": "code",
   "execution_count": 6,
   "metadata": {},
   "outputs": [
    {
     "data": {
      "text/html": [
       "<div>\n",
       "<style scoped>\n",
       "    .dataframe tbody tr th:only-of-type {\n",
       "        vertical-align: middle;\n",
       "    }\n",
       "\n",
       "    .dataframe tbody tr th {\n",
       "        vertical-align: top;\n",
       "    }\n",
       "\n",
       "    .dataframe thead th {\n",
       "        text-align: right;\n",
       "    }\n",
       "</style>\n",
       "<table border=\"1\" class=\"dataframe\">\n",
       "  <thead>\n",
       "    <tr style=\"text-align: right;\">\n",
       "      <th></th>\n",
       "      <th>id</th>\n",
       "      <th>merchant_id</th>\n",
       "      <th>start_at</th>\n",
       "      <th>end_at</th>\n",
       "      <th>display_text</th>\n",
       "      <th>is_searchable</th>\n",
       "    </tr>\n",
       "  </thead>\n",
       "  <tbody>\n",
       "    <tr>\n",
       "      <th>0</th>\n",
       "      <td>0</td>\n",
       "      <td>0</td>\n",
       "      <td>2020-07-31 15:00:00</td>\n",
       "      <td>2029-12-31 14:59:00</td>\n",
       "      <td>1.0% 캐시백</td>\n",
       "      <td>1.0</td>\n",
       "    </tr>\n",
       "    <tr>\n",
       "      <th>1</th>\n",
       "      <td>1</td>\n",
       "      <td>1</td>\n",
       "      <td>2020-03-26 15:00:00</td>\n",
       "      <td>2029-12-31 14:59:59</td>\n",
       "      <td>1.0% 캐시백</td>\n",
       "      <td>1.0</td>\n",
       "    </tr>\n",
       "    <tr>\n",
       "      <th>2</th>\n",
       "      <td>2</td>\n",
       "      <td>2</td>\n",
       "      <td>2020-03-02 15:00:00</td>\n",
       "      <td>2028-12-31 14:59:00</td>\n",
       "      <td>3.0% 캐시백</td>\n",
       "      <td>1.0</td>\n",
       "    </tr>\n",
       "    <tr>\n",
       "      <th>3</th>\n",
       "      <td>3</td>\n",
       "      <td>3</td>\n",
       "      <td>2020-04-22 03:00:00</td>\n",
       "      <td>2050-04-30 03:00:00</td>\n",
       "      <td>1.0% 캐시백</td>\n",
       "      <td>1.0</td>\n",
       "    </tr>\n",
       "    <tr>\n",
       "      <th>4</th>\n",
       "      <td>4</td>\n",
       "      <td>4</td>\n",
       "      <td>2020-07-29 15:00:00</td>\n",
       "      <td>2050-07-31 14:59:00</td>\n",
       "      <td>최대 4.0% 캐시백</td>\n",
       "      <td>1.0</td>\n",
       "    </tr>\n",
       "  </tbody>\n",
       "</table>\n",
       "</div>"
      ],
      "text/plain": [
       "   id  merchant_id             start_at               end_at display_text  \\\n",
       "0   0            0  2020-07-31 15:00:00  2029-12-31 14:59:00     1.0% 캐시백   \n",
       "1   1            1  2020-03-26 15:00:00  2029-12-31 14:59:59     1.0% 캐시백   \n",
       "2   2            2  2020-03-02 15:00:00  2028-12-31 14:59:00     3.0% 캐시백   \n",
       "3   3            3  2020-04-22 03:00:00  2050-04-30 03:00:00     1.0% 캐시백   \n",
       "4   4            4  2020-07-29 15:00:00  2050-07-31 14:59:00  최대 4.0% 캐시백   \n",
       "\n",
       "   is_searchable  \n",
       "0            1.0  \n",
       "1            1.0  \n",
       "2            1.0  \n",
       "3            1.0  \n",
       "4            1.0  "
      ]
     },
     "execution_count": 6,
     "metadata": {},
     "output_type": "execute_result"
    }
   ],
   "source": [
    "df_stores.head()"
   ]
  },
  {
   "cell_type": "code",
   "execution_count": 7,
   "metadata": {},
   "outputs": [
    {
     "data": {
      "text/html": [
       "<div>\n",
       "<style scoped>\n",
       "    .dataframe tbody tr th:only-of-type {\n",
       "        vertical-align: middle;\n",
       "    }\n",
       "\n",
       "    .dataframe tbody tr th {\n",
       "        vertical-align: top;\n",
       "    }\n",
       "\n",
       "    .dataframe thead th {\n",
       "        text-align: right;\n",
       "    }\n",
       "</style>\n",
       "<table border=\"1\" class=\"dataframe\">\n",
       "  <thead>\n",
       "    <tr style=\"text-align: right;\">\n",
       "      <th></th>\n",
       "      <th>id</th>\n",
       "      <th>signup_datetime</th>\n",
       "      <th>lifetime_first_merchant_id</th>\n",
       "      <th>lifetime_first_purchase_datetime</th>\n",
       "      <th>account_referral</th>\n",
       "    </tr>\n",
       "  </thead>\n",
       "  <tbody>\n",
       "    <tr>\n",
       "      <th>0</th>\n",
       "      <td>0</td>\n",
       "      <td>2021-03-20 14:15:59.392</td>\n",
       "      <td>NaN</td>\n",
       "      <td>None</td>\n",
       "      <td>partnership</td>\n",
       "    </tr>\n",
       "    <tr>\n",
       "      <th>1</th>\n",
       "      <td>1</td>\n",
       "      <td>2020-05-05 13:57:03.195</td>\n",
       "      <td>12251.0</td>\n",
       "      <td>2020-05-05 15:06:05.000</td>\n",
       "      <td>ebbonus5</td>\n",
       "    </tr>\n",
       "    <tr>\n",
       "      <th>2</th>\n",
       "      <td>2</td>\n",
       "      <td>2021-02-01 13:49:07.783</td>\n",
       "      <td>NaN</td>\n",
       "      <td>None</td>\n",
       "      <td>friend</td>\n",
       "    </tr>\n",
       "    <tr>\n",
       "      <th>3</th>\n",
       "      <td>3</td>\n",
       "      <td>2021-02-23 21:41:40.364</td>\n",
       "      <td>NaN</td>\n",
       "      <td>None</td>\n",
       "      <td>sign up</td>\n",
       "    </tr>\n",
       "    <tr>\n",
       "      <th>4</th>\n",
       "      <td>4</td>\n",
       "      <td>2021-01-27 16:46:25.400</td>\n",
       "      <td>NaN</td>\n",
       "      <td>None</td>\n",
       "      <td>sign up</td>\n",
       "    </tr>\n",
       "  </tbody>\n",
       "</table>\n",
       "</div>"
      ],
      "text/plain": [
       "   id          signup_datetime  lifetime_first_merchant_id  \\\n",
       "0   0  2021-03-20 14:15:59.392                         NaN   \n",
       "1   1  2020-05-05 13:57:03.195                     12251.0   \n",
       "2   2  2021-02-01 13:49:07.783                         NaN   \n",
       "3   3  2021-02-23 21:41:40.364                         NaN   \n",
       "4   4  2021-01-27 16:46:25.400                         NaN   \n",
       "\n",
       "  lifetime_first_purchase_datetime account_referral  \n",
       "0                             None      partnership  \n",
       "1          2020-05-05 15:06:05.000         ebbonus5  \n",
       "2                             None           friend  \n",
       "3                             None          sign up  \n",
       "4                             None          sign up  "
      ]
     },
     "execution_count": 7,
     "metadata": {},
     "output_type": "execute_result"
    }
   ],
   "source": [
    "df_users.head()"
   ]
  },
  {
   "cell_type": "markdown",
   "metadata": {},
   "source": [
    "## Create  Train and Test_dataset"
   ]
  },
  {
   "cell_type": "code",
   "execution_count": 8,
   "metadata": {},
   "outputs": [],
   "source": [
    "clicks_train, clicks_test = train_test_split(df_clicks,test_size = 0.05,random_state = 42)\n",
    "users_train = clicks_train[\"user_id\"].unique()\n",
    "\n",
    "users_test = clicks_test[\"user_id\"].unique()\n",
    "\n",
    "np.savetxt(\"users_train.csv\",users_train,delimiter = ',')\n",
    "np.savetxt(\"users_test.csv\",users_test,delimiter = ',')\n",
    "\n",
    "\n",
    "df2 = clicks_train.merge(df_stores,left_on = 'store_id', right_on = 'id', how = 'inner')\n",
    "\n",
    "df3 = df2[(df2['created_at']>=df2['start_at']) & \n",
    "         (df2['created_at']<=df2['end_at'])]\n",
    "\n",
    "\n",
    "df_test = clicks_test.merge(df_stores,left_on = 'store_id', right_on = 'id', how = 'inner')\n",
    "df_test = df_test[(df_test['created_at']>=df_test['start_at']) & \n",
    "         (df_test['created_at']<=df_test['end_at'])]\n",
    "\n",
    "df_test = df_test.merge(df_users, left_on = 'user_id',right_on = 'id',how = 'left')"
   ]
  },
  {
   "cell_type": "markdown",
   "metadata": {},
   "source": [
    "# Exploratory Data Analysis"
   ]
  },
  {
   "cell_type": "markdown",
   "metadata": {},
   "source": [
    "\n",
    "#### What are the most clicked merchant for month January 2021?\n",
    "The merchant_id 40 looks to be the most popular in Jan 2021\n"
   ]
  },
  {
   "cell_type": "code",
   "execution_count": 9,
   "metadata": {},
   "outputs": [
    {
     "name": "stderr",
     "output_type": "stream",
     "text": [
      "/Users/gfg_user/anaconda3/lib/python3.7/site-packages/pandas/core/frame.py:4449: SettingWithCopyWarning: \n",
      "A value is trying to be set on a copy of a slice from a DataFrame\n",
      "\n",
      "See the caveats in the documentation: https://pandas.pydata.org/pandas-docs/stable/user_guide/indexing.html#returning-a-view-versus-a-copy\n",
      "  errors=errors,\n"
     ]
    },
    {
     "data": {
      "text/html": [
       "<div>\n",
       "<style scoped>\n",
       "    .dataframe tbody tr th:only-of-type {\n",
       "        vertical-align: middle;\n",
       "    }\n",
       "\n",
       "    .dataframe tbody tr th {\n",
       "        vertical-align: top;\n",
       "    }\n",
       "\n",
       "    .dataframe thead th {\n",
       "        text-align: right;\n",
       "    }\n",
       "</style>\n",
       "<table border=\"1\" class=\"dataframe\">\n",
       "  <thead>\n",
       "    <tr style=\"text-align: right;\">\n",
       "      <th></th>\n",
       "      <th>click_id</th>\n",
       "    </tr>\n",
       "    <tr>\n",
       "      <th>merchant_id</th>\n",
       "      <th></th>\n",
       "    </tr>\n",
       "  </thead>\n",
       "  <tbody>\n",
       "    <tr>\n",
       "      <th>399</th>\n",
       "      <td>10325</td>\n",
       "    </tr>\n",
       "    <tr>\n",
       "      <th>311</th>\n",
       "      <td>4472</td>\n",
       "    </tr>\n",
       "    <tr>\n",
       "      <th>185</th>\n",
       "      <td>4000</td>\n",
       "    </tr>\n",
       "    <tr>\n",
       "      <th>87</th>\n",
       "      <td>2680</td>\n",
       "    </tr>\n",
       "    <tr>\n",
       "      <th>111</th>\n",
       "      <td>2569</td>\n",
       "    </tr>\n",
       "    <tr>\n",
       "      <th>...</th>\n",
       "      <td>...</td>\n",
       "    </tr>\n",
       "    <tr>\n",
       "      <th>84</th>\n",
       "      <td>1</td>\n",
       "    </tr>\n",
       "    <tr>\n",
       "      <th>101</th>\n",
       "      <td>1</td>\n",
       "    </tr>\n",
       "    <tr>\n",
       "      <th>301</th>\n",
       "      <td>1</td>\n",
       "    </tr>\n",
       "    <tr>\n",
       "      <th>215</th>\n",
       "      <td>1</td>\n",
       "    </tr>\n",
       "    <tr>\n",
       "      <th>197</th>\n",
       "      <td>1</td>\n",
       "    </tr>\n",
       "  </tbody>\n",
       "</table>\n",
       "<p>229 rows × 1 columns</p>\n",
       "</div>"
      ],
      "text/plain": [
       "             click_id\n",
       "merchant_id          \n",
       "399             10325\n",
       "311              4472\n",
       "185              4000\n",
       "87               2680\n",
       "111              2569\n",
       "...               ...\n",
       "84                  1\n",
       "101                 1\n",
       "301                 1\n",
       "215                 1\n",
       "197                 1\n",
       "\n",
       "[229 rows x 1 columns]"
      ]
     },
     "execution_count": 9,
     "metadata": {},
     "output_type": "execute_result"
    }
   ],
   "source": [
    "temp = df3[(df3['created_at']>='2021-01-01') & \n",
    "           (df3['created_at']<='2021-02-01')]\n",
    "temp.rename({'id_x':'click_id'}, inplace = True,axis = 1)\n",
    "temp.groupby(['merchant_id']).agg({'click_id':'count'}).sort_values('click_id',ascending = False)"
   ]
  },
  {
   "cell_type": "markdown",
   "metadata": {},
   "source": [
    "#### What are the distribution of clicks of merchant for month March 2021?\n"
   ]
  },
  {
   "cell_type": "code",
   "execution_count": 10,
   "metadata": {},
   "outputs": [
    {
     "name": "stderr",
     "output_type": "stream",
     "text": [
      "/Users/gfg_user/anaconda3/lib/python3.7/site-packages/pandas/core/frame.py:4449: SettingWithCopyWarning: \n",
      "A value is trying to be set on a copy of a slice from a DataFrame\n",
      "\n",
      "See the caveats in the documentation: https://pandas.pydata.org/pandas-docs/stable/user_guide/indexing.html#returning-a-view-versus-a-copy\n",
      "  errors=errors,\n"
     ]
    },
    {
     "data": {
      "text/plain": [
       "<AxesSubplot:>"
      ]
     },
     "execution_count": 10,
     "metadata": {},
     "output_type": "execute_result"
    },
    {
     "data": {
      "image/png": "[encoded data removed]",
      "text/plain": [
       "<Figure size 432x288 with 1 Axes>"
      ]
     },
     "metadata": {
      "needs_background": "light"
     },
     "output_type": "display_data"
    }
   ],
   "source": [
    "temp = df3[(df3['created_at']>='2021-03-01') & \n",
    "           (df3['created_at']<='2021-04-01')]\n",
    "temp.rename({'id_x':'click_id'}, inplace = True,axis = 1)\n",
    "#temp_agg = temp.groupby(['merchant_id']).agg({'click_id':'count'}).sort_values('click_id',ascending = False)\n",
    "#temp_agg.reset_index(inplace = True)\n",
    "temp[temp[\"merchant_id\"]!=36][\"merchant_id\"].hist()"
   ]
  },
  {
   "cell_type": "code",
   "execution_count": 11,
   "metadata": {},
   "outputs": [
    {
     "data": {
      "text/plain": [
       "36     0.594151\n",
       "399    0.083565\n",
       "233    0.029936\n",
       "280    0.027459\n",
       "185    0.020911\n",
       "         ...   \n",
       "335    0.000011\n",
       "406    0.000011\n",
       "83     0.000011\n",
       "494    0.000011\n",
       "330    0.000011\n",
       "Name: merchant_id, Length: 227, dtype: float64"
      ]
     },
     "execution_count": 11,
     "metadata": {},
     "output_type": "execute_result"
    }
   ],
   "source": [
    "temp[\"merchant_id\"].value_counts(normalize = True)"
   ]
  },
  {
   "cell_type": "markdown",
   "metadata": {},
   "source": [
    "### On average, what are the number of clicks user make in 1 month?"
   ]
  },
  {
   "cell_type": "code",
   "execution_count": 12,
   "metadata": {},
   "outputs": [
    {
     "name": "stderr",
     "output_type": "stream",
     "text": [
      "/Users/gfg_user/anaconda3/lib/python3.7/site-packages/ipykernel_launcher.py:1: SettingWithCopyWarning: \n",
      "A value is trying to be set on a copy of a slice from a DataFrame.\n",
      "Try using .loc[row_indexer,col_indexer] = value instead\n",
      "\n",
      "See the caveats in the documentation: https://pandas.pydata.org/pandas-docs/stable/user_guide/indexing.html#returning-a-view-versus-a-copy\n",
      "  \"\"\"Entry point for launching an IPython kernel.\n",
      "/Users/gfg_user/anaconda3/lib/python3.7/site-packages/ipykernel_launcher.py:2: SettingWithCopyWarning: \n",
      "A value is trying to be set on a copy of a slice from a DataFrame.\n",
      "Try using .loc[row_indexer,col_indexer] = value instead\n",
      "\n",
      "See the caveats in the documentation: https://pandas.pydata.org/pandas-docs/stable/user_guide/indexing.html#returning-a-view-versus-a-copy\n",
      "  \n"
     ]
    },
    {
     "data": {
      "text/plain": [
       "count    3.587618\n",
       "dtype: float64"
      ]
     },
     "execution_count": 12,
     "metadata": {},
     "output_type": "execute_result"
    }
   ],
   "source": [
    "df3['count'] = np.ones(len(df3))\n",
    "df3[\"month\"] = df3[\"created_at\"].apply(lambda x:datetime.strptime(x[0:10],'%Y-%m-%d').date().month)\n",
    "df3m = df3.groupby(['month','user_id']).agg({'count':'sum'})\n",
    "df3m.mean()"
   ]
  },
  {
   "cell_type": "markdown",
   "metadata": {},
   "source": [
    "##  Feature Creation : Compute Ratings"
   ]
  },
  {
   "cell_type": "code",
   "execution_count": 13,
   "metadata": {},
   "outputs": [
    {
     "name": "stderr",
     "output_type": "stream",
     "text": [
      "/Users/gfg_user/anaconda3/lib/python3.7/site-packages/ipykernel_launcher.py:1: SettingWithCopyWarning: \n",
      "A value is trying to be set on a copy of a slice from a DataFrame.\n",
      "Try using .loc[row_indexer,col_indexer] = value instead\n",
      "\n",
      "See the caveats in the documentation: https://pandas.pydata.org/pandas-docs/stable/user_guide/indexing.html#returning-a-view-versus-a-copy\n",
      "  \"\"\"Entry point for launching an IPython kernel.\n"
     ]
    }
   ],
   "source": [
    "df3['count'] = range(len(df3))\n",
    "df_u_m = df3.groupby(['user_id','merchant_id']).agg({'count':'count'})\n",
    "df_u_m.rename({'count':'user_merchant_count'},axis = 1,inplace = True)\n",
    "df_u_m.reset_index(inplace = True)\n",
    "\n",
    "#----------------------------_#\n",
    "df_u = df3.groupby(['user_id']).agg({'count':'count'})\n",
    "df_u.rename({'count':'user_count'},axis = 1,inplace = True)\n",
    "df_u.reset_index(inplace = True)\n",
    "df3 = df3.merge(df_u_m, on = ['user_id',\n",
    "                              'merchant_id'], how = 'left')\n",
    "df3 = df3.merge(df_u, on = ['user_id'], how = 'left')\n",
    "\n",
    "df3['rating'] = 5* df3['user_merchant_count']/df3['user_count']\n",
    "df4 = df3.merge(df_users, left_on = 'user_id',right_on = 'id',how = 'left')"
   ]
  },
  {
   "cell_type": "code",
   "execution_count": 14,
   "metadata": {},
   "outputs": [],
   "source": [
    "most_frequent_merchant = df4['merchant_id'].value_counts().index[0]"
   ]
  },
  {
   "cell_type": "code",
   "execution_count": 15,
   "metadata": {},
   "outputs": [
    {
     "data": {
      "text/plain": [
       "(181842, 24)"
      ]
     },
     "execution_count": 15,
     "metadata": {},
     "output_type": "execute_result"
    }
   ],
   "source": [
    "df4.shape"
   ]
  },
  {
   "cell_type": "code",
   "execution_count": 16,
   "metadata": {},
   "outputs": [],
   "source": [
    "cols = ['index',\n",
    " 'id_x',\n",
    " 'user_id',\n",
    " 'store_id',\n",
    " 'device',\n",
    " 'platform',\n",
    " 'channel',\n",
    " 'created_at',\n",
    "# 'id_y',\n",
    " 'merchant_id',\n",
    " 'start_at',\n",
    " 'end_at',\n",
    " 'display_text',\n",
    " 'is_searchable',\n",
    " 'count',\n",
    " 'user_merchant_count',\n",
    " 'user_count',\n",
    " 'rating',\n",
    "# 'id',\n",
    " 'signup_datetime',\n",
    " 'lifetime_first_merchant_id',\n",
    " 'lifetime_first_purchase_datetime',\n",
    " 'account_referral']\n",
    "df4 = df4[cols]"
   ]
  },
  {
   "cell_type": "markdown",
   "metadata": {},
   "source": [
    "## Feature Creation: Customer & Price Features"
   ]
  },
  {
   "cell_type": "code",
   "execution_count": 17,
   "metadata": {},
   "outputs": [],
   "source": [
    "df4['created_at'] = df4[\"created_at\"].apply(lambda x: datetime.strptime(x[0:10],'%Y-%m-%d').date())\n",
    "df4['signup_datetime'] = df4[\"signup_datetime\"].apply(lambda x: datetime.strptime(x[0:10],'%Y-%m-%d').date())\n",
    "\n",
    "#-----\n",
    "\n",
    "\n",
    "df4['is_new_user'] = np.where(df4['signup_datetime']==df4['created_at'],1,0)\n",
    "df4['customer_age']  = df4['created_at'] - df4['signup_datetime']\n",
    "df4['customer_age']  = df4['customer_age'].apply(lambda x:x.days)\n"
   ]
  },
  {
   "cell_type": "code",
   "execution_count": 18,
   "metadata": {},
   "outputs": [],
   "source": [
    "df4['cashback'] = df4['display_text'].apply(lambda x:x[0])\n",
    "\n",
    "    \n",
    "df4['cashback'] = df4['display_text'].apply(lambda x:get_cashback(x))   \n",
    "df4['cashback'] = df4['cashback'].apply(lambda x:x[:-1])  "
   ]
  },
  {
   "cell_type": "code",
   "execution_count": 19,
   "metadata": {},
   "outputs": [],
   "source": [
    "imp_channels = df4['channel'].value_counts(normalize = True).index[0:7]\n",
    "\n",
    "imp_accounts = df4['account_referral'].value_counts(normalize = True).index[0:7]\n",
    "df4['customer_age'] = df4['customer_age'].astype(int)\n",
    "\n",
    "df4['is_searchable'] = df4['is_searchable'].fillna(0)\n",
    "\n",
    "df4[\"device\"] = df4[\"device\"].fillna(\"unknown\")\n",
    "\n",
    "df4[\"channel\"] = df4[\"channel\"].fillna(\"unknown\")"
   ]
  },
  {
   "cell_type": "code",
   "execution_count": 20,
   "metadata": {},
   "outputs": [],
   "source": [
    "features = ['user_id','customer_age','channel','account_referral','device','platform','is_new_user','cashback']\n",
    "\n",
    "\n",
    "\n",
    "df4 = df4.drop_duplicates(subset = [\"user_id\"], keep = 'last')\n",
    "df4[\"combined_features\"]  = df4.apply(combined_features, axis = 1)\n",
    "cv = CountVectorizer()"
   ]
  },
  {
   "cell_type": "markdown",
   "metadata": {},
   "source": [
    "## Compute Cosine Similarity to find similar users"
   ]
  },
  {
   "cell_type": "markdown",
   "metadata": {},
   "source": [
    "A cosine similarity is computed between users to find similar users"
   ]
  },
  {
   "cell_type": "code",
   "execution_count": 21,
   "metadata": {},
   "outputs": [
    {
     "data": {
      "text/plain": [
       "(39691, 39691)"
      ]
     },
     "execution_count": 21,
     "metadata": {},
     "output_type": "execute_result"
    }
   ],
   "source": [
    "\n",
    "df4U = df4[[\"user_id\",\n",
    "            \"combined_features\"]].drop_duplicates(subset = [\"user_id\",\n",
    "                                                                       \"combined_features\"], keep = 'last')\n",
    "count_matrix = cv.fit_transform(df4U[\"combined_features\"])\n",
    "\n",
    "df4U.to_csv('df4U.csv')\n",
    "\n",
    "count_matrix = count_matrix.astype('float32')\n",
    "cosine_sim = cosine_similarity(count_matrix)\n",
    "np.shape(cosine_sim)"
   ]
  },
  {
   "cell_type": "markdown",
   "metadata": {},
   "source": [
    "## Compute User -Merchant Ranking"
   ]
  },
  {
   "cell_type": "code",
   "execution_count": 22,
   "metadata": {},
   "outputs": [],
   "source": [
    "user_ratings = df4[['user_id','merchant_id','user_merchant_count']].groupby(['user_id','merchant_id']).agg({'user_merchant_count':'mean'})\n",
    "\n",
    "user_ratings.reset_index(inplace = True)\n",
    "user_ratings_pivot = user_ratings.pivot(index = 'user_id',\n",
    "                                columns = 'merchant_id',\n",
    "                                values = 'user_merchant_count')\n",
    "user_ratings_pivot.fillna(0,inplace = True)"
   ]
  },
  {
   "cell_type": "code",
   "execution_count": 23,
   "metadata": {},
   "outputs": [],
   "source": [
    "user_ratings_pivot2 = user_ratings_pivot.T\n",
    "user_merch = {}\n",
    "user_lst = user_ratings_pivot2.columns\n",
    "for user in user_lst:\n",
    "    if user not in user_merch:\n",
    "        user_merch[user] = [np.where(user_ratings_pivot2[user]>0)[0]]\n",
    "    else:\n",
    "        user_merch[user].append(np.where(user_ratings_pivot2[user]>0)[0])\n",
    "        "
   ]
  },
  {
   "cell_type": "code",
   "execution_count": 24,
   "metadata": {},
   "outputs": [],
   "source": [
    "def get_user_id(test_data):\n",
    "    return(test_data['user_id'].unique())\n",
    "\n",
    "user_test = df_test['user_id']\n",
    "y_test = np.array(df_test['merchant_id'])\n",
    "user_test = np.array(df_test['user_id'])"
   ]
  },
  {
   "cell_type": "code",
   "execution_count": 25,
   "metadata": {},
   "outputs": [],
   "source": [
    "\n",
    "df = pd.DataFrame(user_merch)\n",
    "df.to_csv(\"user_merch.csv\", index = False)"
   ]
  },
  {
   "cell_type": "code",
   "execution_count": 26,
   "metadata": {},
   "outputs": [
    {
     "data": {
      "text/html": [
       "<div>\n",
       "<style scoped>\n",
       "    .dataframe tbody tr th:only-of-type {\n",
       "        vertical-align: middle;\n",
       "    }\n",
       "\n",
       "    .dataframe tbody tr th {\n",
       "        vertical-align: top;\n",
       "    }\n",
       "\n",
       "    .dataframe thead th {\n",
       "        text-align: right;\n",
       "    }\n",
       "</style>\n",
       "<table border=\"1\" class=\"dataframe\">\n",
       "  <thead>\n",
       "    <tr style=\"text-align: right;\">\n",
       "      <th></th>\n",
       "      <th>1</th>\n",
       "      <th>7</th>\n",
       "      <th>11</th>\n",
       "      <th>12</th>\n",
       "      <th>20</th>\n",
       "      <th>32</th>\n",
       "      <th>34</th>\n",
       "      <th>43</th>\n",
       "      <th>61</th>\n",
       "      <th>62</th>\n",
       "      <th>...</th>\n",
       "      <th>250394</th>\n",
       "      <th>250399</th>\n",
       "      <th>250401</th>\n",
       "      <th>250403</th>\n",
       "      <th>250404</th>\n",
       "      <th>250411</th>\n",
       "      <th>250418</th>\n",
       "      <th>250425</th>\n",
       "      <th>250435</th>\n",
       "      <th>250442</th>\n",
       "    </tr>\n",
       "  </thead>\n",
       "  <tbody>\n",
       "    <tr>\n",
       "      <th>0</th>\n",
       "      <td>[190]</td>\n",
       "      <td>[2]</td>\n",
       "      <td>[118]</td>\n",
       "      <td>[58]</td>\n",
       "      <td>[130]</td>\n",
       "      <td>[63]</td>\n",
       "      <td>[59]</td>\n",
       "      <td>[108]</td>\n",
       "      <td>[149]</td>\n",
       "      <td>[130]</td>\n",
       "      <td>...</td>\n",
       "      <td>[184]</td>\n",
       "      <td>[227]</td>\n",
       "      <td>[17]</td>\n",
       "      <td>[173]</td>\n",
       "      <td>[190]</td>\n",
       "      <td>[78]</td>\n",
       "      <td>[58]</td>\n",
       "      <td>[163]</td>\n",
       "      <td>[19]</td>\n",
       "      <td>[19]</td>\n",
       "    </tr>\n",
       "  </tbody>\n",
       "</table>\n",
       "<p>1 rows × 39691 columns</p>\n",
       "</div>"
      ],
      "text/plain": [
       "       1    7     11    12     20    32    34     43     61     62  ...  \\\n",
       "0  [190]  [2]  [118]  [58]  [130]  [63]  [59]  [108]  [149]  [130]  ...   \n",
       "\n",
       "  250394 250399 250401 250403 250404 250411 250418 250425 250435 250442  \n",
       "0  [184]  [227]   [17]  [173]  [190]   [78]   [58]  [163]   [19]   [19]  \n",
       "\n",
       "[1 rows x 39691 columns]"
      ]
     },
     "execution_count": 26,
     "metadata": {},
     "output_type": "execute_result"
    }
   ],
   "source": [
    "dfu = pd.read_csv(\"user_merch.csv\", index_col = None)\n",
    "dfu.head()"
   ]
  },
  {
   "cell_type": "code",
   "execution_count": 27,
   "metadata": {},
   "outputs": [],
   "source": [
    "def batch_predict(user_test):\n",
    "    no_neighbor = 0\n",
    "    user_merch = pd.read_csv(\"user_merch.csv\", index_col = None)\n",
    "    df4U = pd.read_csv('df4U.csv')\n",
    "    users_train = genfromtxt('users_train.csv', delimiter=',')\n",
    "    users_train = [int(i) for i in users_train]\n",
    "    \n",
    "    \n",
    "    user_merch.columns = [int(i) for i in user_merch.columns]\n",
    "    for col in user_merch.columns:\n",
    "        user_merch[col] = ast.literal_eval(user_merch[col][0])[0]\n",
    "\n",
    "    predictions = []\n",
    "    for user in user_test:\n",
    "        if user in users_train:\n",
    "            if user in user_merch.keys():\n",
    "                predictions.append(user_merch[user][0])\n",
    "                continue\n",
    "            else:\n",
    "                if user in df4U['user_id'].unique():\n",
    "                    nearest_user = get_nearest_user(user,df4U)\n",
    "                    while nearest_user:\n",
    "                        u = nearest_user.pop(0)\n",
    "                        if u in user_merch.keys():\n",
    "                            predictions.append(user_merch[u][0])\n",
    "                            print(user_merch[u][0])\n",
    "                            break\n",
    "                else:\n",
    "                    predictions.append(most_frequent_merchant)\n",
    "        else:\n",
    "            predictions.append(most_frequent_merchant)\n",
    "    return predictions\n",
    "\n",
    "\n",
    "\n",
    "def predict(user):\n",
    "    no_neighbor = 0\n",
    "    user_merch = pd.read_csv(\"user_merch.csv\", index_col = None)\n",
    "    df4U = pd.read_csv('df4U.csv')\n",
    "    users_train = genfromtxt('users_train.csv', delimiter=',')\n",
    "    users_train = [int(i) for i in users_train]\n",
    "    \n",
    "    user_merch.columns = [int(i) for i in user_merch.columns]\n",
    "    for col in user_merch.columns:\n",
    "        user_merch[col] = ast.literal_eval(user_merch[col][0])[0]\n",
    "\n",
    "    predictions = []\n",
    "    if user in users_train:\n",
    "        if user in user_merch.keys():\n",
    "            predictions.append(user_merch[user][0])\n",
    "            return predictions\n",
    "        else:\n",
    "            if user in df4U['user_id'].unique():\n",
    "                nearest_user = get_nearest_user(user,df4U)\n",
    "                while nearest_user:\n",
    "                    u = nearest_user.pop(0)\n",
    "                    if u in user_merch.keys():\n",
    "                        predictions.append(user_merch[u][0])\n",
    "                        return predictions\n",
    "            else:\n",
    "                predictions.append(most_frequent_merchant)\n",
    "                return predictions\n",
    "    else:\n",
    "        predictions.append(most_frequent_merchant)\n",
    "    return predictions"
   ]
  },
  {
   "cell_type": "code",
   "execution_count": 28,
   "metadata": {},
   "outputs": [],
   "source": [
    "predictions = batch_predict(user_test)\n"
   ]
  },
  {
   "cell_type": "markdown",
   "metadata": {},
   "source": [
    "## Performance Evaluation"
   ]
  },
  {
   "cell_type": "markdown",
   "metadata": {},
   "source": [
    "The recommender system is like a multiclass classification problem. Two metrics will be used to measure the accuracy of the scores - Precision and Recall. The values of Precision \n",
    "and Recall will be measured against different merchant - ids"
   ]
  },
  {
   "cell_type": "code",
   "execution_count": 29,
   "metadata": {},
   "outputs": [],
   "source": [
    "def Precision(y_true, y_pred):\n",
    "    temp = 0\n",
    "    for i in range(y_true.shape[0]):\n",
    "        if sum(y_true[i]) == 0:\n",
    "              continue\n",
    "        temp+= sum(np.logical_and(y_true[i], y_pred[i]))/ sum(y_true[i])\n",
    "    return temp/ y_true.shape[0]\n",
    "\n",
    "def Recall(y_true, y_pred):\n",
    "    temp = 0\n",
    "    for i in range(y_true.shape[0]):\n",
    "        if sum(y_pred[i]) == 0:\n",
    "              continue\n",
    "    temp+= sum(np.logical_and(y_true[i], y_pred[i]))/ sum(y_pred[i])\n",
    "    return temp/ y_true.shape[0]"
   ]
  },
  {
   "cell_type": "code",
   "execution_count": 30,
   "metadata": {},
   "outputs": [
    {
     "name": "stderr",
     "output_type": "stream",
     "text": [
      "/Users/gfg_user/anaconda3/lib/python3.7/site-packages/sklearn/metrics/_classification.py:1245: UndefinedMetricWarning: Precision is ill-defined and being set to 0.0 in labels with no predicted samples. Use `zero_division` parameter to control this behavior.\n",
      "  _warn_prf(average, modifier, msg_start, len(result))\n",
      "/Users/gfg_user/anaconda3/lib/python3.7/site-packages/sklearn/metrics/_classification.py:1245: UndefinedMetricWarning: Recall is ill-defined and being set to 0.0 in labels with no true samples. Use `zero_division` parameter to control this behavior.\n",
      "  _warn_prf(average, modifier, msg_start, len(result))\n"
     ]
    }
   ],
   "source": [
    "y_test_u = list(set(y_test))\n",
    "arr_results = {}\n",
    "arr_prec = precision_score(list(y_test), predictions, average= None)\n",
    "arr_rec = recall_score(list(y_test), predictions, average=None)\n",
    "for i in range(len(y_test_u)):\n",
    "    arr_results[y_test_u[i]] = [arr_prec[i],arr_rec[i]]\n",
    "    \n",
    "    "
   ]
  },
  {
   "cell_type": "code",
   "execution_count": 31,
   "metadata": {},
   "outputs": [
    {
     "data": {
      "text/html": [
       "<div>\n",
       "<style scoped>\n",
       "    .dataframe tbody tr th:only-of-type {\n",
       "        vertical-align: middle;\n",
       "    }\n",
       "\n",
       "    .dataframe tbody tr th {\n",
       "        vertical-align: top;\n",
       "    }\n",
       "\n",
       "    .dataframe thead th {\n",
       "        text-align: right;\n",
       "    }\n",
       "</style>\n",
       "<table border=\"1\" class=\"dataframe\">\n",
       "  <thead>\n",
       "    <tr style=\"text-align: right;\">\n",
       "      <th></th>\n",
       "      <th>merchant_id</th>\n",
       "      <th>precision</th>\n",
       "      <th>recall</th>\n",
       "    </tr>\n",
       "  </thead>\n",
       "  <tbody>\n",
       "    <tr>\n",
       "      <th>0</th>\n",
       "      <td>0</td>\n",
       "      <td>0.285714</td>\n",
       "      <td>0.500000</td>\n",
       "    </tr>\n",
       "    <tr>\n",
       "      <th>1</th>\n",
       "      <td>1</td>\n",
       "      <td>0.107143</td>\n",
       "      <td>0.272727</td>\n",
       "    </tr>\n",
       "    <tr>\n",
       "      <th>2</th>\n",
       "      <td>2</td>\n",
       "      <td>0.459459</td>\n",
       "      <td>0.708333</td>\n",
       "    </tr>\n",
       "    <tr>\n",
       "      <th>3</th>\n",
       "      <td>3</td>\n",
       "      <td>0.000000</td>\n",
       "      <td>0.000000</td>\n",
       "    </tr>\n",
       "    <tr>\n",
       "      <th>4</th>\n",
       "      <td>4</td>\n",
       "      <td>0.000000</td>\n",
       "      <td>0.000000</td>\n",
       "    </tr>\n",
       "    <tr>\n",
       "      <th>...</th>\n",
       "      <td>...</td>\n",
       "      <td>...</td>\n",
       "      <td>...</td>\n",
       "    </tr>\n",
       "    <tr>\n",
       "      <th>194</th>\n",
       "      <td>487</td>\n",
       "      <td>0.000000</td>\n",
       "      <td>0.000000</td>\n",
       "    </tr>\n",
       "    <tr>\n",
       "      <th>195</th>\n",
       "      <td>491</td>\n",
       "      <td>0.000000</td>\n",
       "      <td>0.000000</td>\n",
       "    </tr>\n",
       "    <tr>\n",
       "      <th>196</th>\n",
       "      <td>492</td>\n",
       "      <td>0.000000</td>\n",
       "      <td>0.000000</td>\n",
       "    </tr>\n",
       "    <tr>\n",
       "      <th>197</th>\n",
       "      <td>493</td>\n",
       "      <td>0.000000</td>\n",
       "      <td>0.000000</td>\n",
       "    </tr>\n",
       "    <tr>\n",
       "      <th>198</th>\n",
       "      <td>495</td>\n",
       "      <td>0.000000</td>\n",
       "      <td>0.000000</td>\n",
       "    </tr>\n",
       "  </tbody>\n",
       "</table>\n",
       "<p>199 rows × 3 columns</p>\n",
       "</div>"
      ],
      "text/plain": [
       "     merchant_id  precision    recall\n",
       "0              0   0.285714  0.500000\n",
       "1              1   0.107143  0.272727\n",
       "2              2   0.459459  0.708333\n",
       "3              3   0.000000  0.000000\n",
       "4              4   0.000000  0.000000\n",
       "..           ...        ...       ...\n",
       "194          487   0.000000  0.000000\n",
       "195          491   0.000000  0.000000\n",
       "196          492   0.000000  0.000000\n",
       "197          493   0.000000  0.000000\n",
       "198          495   0.000000  0.000000\n",
       "\n",
       "[199 rows x 3 columns]"
      ]
     },
     "execution_count": 31,
     "metadata": {},
     "output_type": "execute_result"
    }
   ],
   "source": [
    "\n",
    "res = pd.DataFrame(arr_results).T\n",
    "res.reset_index(inplace = True)\n",
    "res.columns = [\"merchant_id\",\"precision\",\"recall\"]\n",
    "res\n"
   ]
  },
  {
   "cell_type": "code",
   "execution_count": 32,
   "metadata": {},
   "outputs": [
    {
     "name": "stdout",
     "output_type": "stream",
     "text": [
      "Precision: 0.06113504044279361 Recall: 0.01740506329113924\n"
     ]
    },
    {
     "name": "stderr",
     "output_type": "stream",
     "text": [
      "/Users/gfg_user/anaconda3/lib/python3.7/site-packages/sklearn/metrics/_classification.py:1245: UndefinedMetricWarning: Precision is ill-defined and being set to 0.0 in labels with no predicted samples. Use `zero_division` parameter to control this behavior.\n",
      "  _warn_prf(average, modifier, msg_start, len(result))\n",
      "/Users/gfg_user/anaconda3/lib/python3.7/site-packages/sklearn/metrics/_classification.py:1245: UndefinedMetricWarning: Recall is ill-defined and being set to 0.0 in labels with no true samples. Use `zero_division` parameter to control this behavior.\n",
      "  _warn_prf(average, modifier, msg_start, len(result))\n"
     ]
    }
   ],
   "source": [
    "print('Precision:',precision_score(list(y_test), predictions, average= 'weighted'),\n",
    "                                   'Recall:',recall_score(list(y_test), \n",
    "                                    predictions, average='weighted'))"
   ]
  },
  {
   "cell_type": "code",
   "execution_count": 33,
   "metadata": {},
   "outputs": [
    {
     "name": "stderr",
     "output_type": "stream",
     "text": [
      "/Users/gfg_user/anaconda3/lib/python3.7/site-packages/sklearn/metrics/_classification.py:1245: UndefinedMetricWarning: Precision is ill-defined and being set to 0.0 in labels with no predicted samples. Use `zero_division` parameter to control this behavior.\n",
      "  _warn_prf(average, modifier, msg_start, len(result))\n"
     ]
    },
    {
     "data": {
      "text/plain": [
       "array([0.28571429, 0.10714286, 0.45945946, 0.        , 0.        ,\n",
       "       0.        , 0.        , 0.        , 0.        , 0.        ,\n",
       "       0.        , 0.        , 0.        , 0.        , 0.        ,\n",
       "       0.        , 0.        , 0.        , 0.        , 0.        ,\n",
       "       0.        , 0.        , 0.        , 0.        , 0.        ,\n",
       "       0.        , 0.        , 0.        , 0.        , 0.        ,\n",
       "       0.        , 0.        , 0.        , 0.17374517, 0.        ,\n",
       "       0.        , 0.        , 0.        , 0.        , 0.        ,\n",
       "       0.        , 0.        , 0.        , 0.        , 0.        ,\n",
       "       0.        , 0.        , 0.        , 0.        , 0.        ,\n",
       "       0.        , 0.        , 0.        , 0.        , 0.        ,\n",
       "       0.        , 0.        , 0.        , 0.        , 0.        ,\n",
       "       0.        , 0.        , 0.        , 0.        , 0.        ,\n",
       "       0.        , 0.        , 0.        , 0.        , 0.        ,\n",
       "       0.        , 0.        , 0.        , 0.        , 0.        ,\n",
       "       0.        , 0.        , 0.        , 0.        , 0.        ,\n",
       "       0.        , 0.        , 0.        , 0.        , 0.        ,\n",
       "       0.        , 0.        , 0.        , 0.        , 0.        ,\n",
       "       0.        , 0.        , 0.        , 0.        , 0.        ,\n",
       "       0.        , 0.        , 0.        , 0.        , 0.        ,\n",
       "       0.        , 0.        , 0.        , 0.        , 0.        ,\n",
       "       0.        , 0.        , 0.        , 0.        , 0.        ,\n",
       "       0.        , 0.        , 0.        , 0.6       , 0.        ,\n",
       "       0.        , 0.        , 0.        , 0.        , 0.        ,\n",
       "       0.        , 0.        , 0.        , 0.        , 0.        ,\n",
       "       0.        , 0.        , 0.        , 0.        , 0.        ,\n",
       "       0.        , 0.        , 0.        , 0.        , 0.        ,\n",
       "       0.        , 0.        , 0.        , 0.        , 0.        ,\n",
       "       0.        , 0.        , 0.        , 0.        , 0.        ,\n",
       "       0.        , 0.        , 0.        , 0.        , 0.        ,\n",
       "       0.        , 0.        , 0.        , 0.        , 0.        ,\n",
       "       0.        , 0.        , 0.        , 0.        , 0.        ,\n",
       "       0.        , 0.        , 0.        , 0.        , 0.        ,\n",
       "       0.        , 0.        , 0.        , 0.        , 0.        ,\n",
       "       0.        , 0.        , 0.        , 0.        , 0.        ,\n",
       "       0.        , 0.        , 0.        , 0.        , 0.        ,\n",
       "       0.        , 0.        , 0.        , 0.        , 0.        ,\n",
       "       0.        , 0.        , 0.0625    , 0.        , 0.        ,\n",
       "       0.        , 0.        , 0.        , 0.        , 0.        ,\n",
       "       0.        , 0.        , 0.        , 0.        , 0.        ,\n",
       "       0.        , 0.        , 0.        , 0.        , 0.        ,\n",
       "       0.        , 0.        , 0.        , 0.        , 0.        ,\n",
       "       0.        , 0.        , 0.        , 0.        , 0.07142857,\n",
       "       0.        , 0.        , 0.        , 0.        , 0.        ,\n",
       "       0.        , 0.        , 0.        , 0.        , 0.        ,\n",
       "       0.        , 0.        , 0.        , 0.        , 0.        ,\n",
       "       0.        , 0.        , 0.        , 0.        , 0.        ,\n",
       "       0.        , 0.        , 0.        , 0.        , 0.        ,\n",
       "       0.        , 0.        , 0.        , 0.        , 0.        ,\n",
       "       0.        , 0.        , 0.        , 0.        , 0.        ,\n",
       "       0.        , 0.        , 0.        , 0.        , 0.        ,\n",
       "       0.        , 0.        , 0.        , 0.        , 0.        ,\n",
       "       0.        , 0.        , 0.        , 0.        , 0.        ,\n",
       "       0.        , 0.        , 0.        , 0.        , 0.        ,\n",
       "       0.        , 0.        , 0.        , 0.        , 0.        ,\n",
       "       0.        , 0.        , 0.        , 0.        , 0.        ,\n",
       "       0.        , 0.        , 0.        , 0.        , 0.        ,\n",
       "       0.        , 0.        , 0.        , 0.        , 0.        ,\n",
       "       0.        , 0.        , 0.        , 0.        , 0.        ,\n",
       "       0.        , 0.        , 0.        , 0.        , 0.        ,\n",
       "       0.        , 0.        , 0.        , 0.        , 0.        ,\n",
       "       0.        , 0.        , 0.        , 0.        , 0.        ,\n",
       "       0.        , 0.        , 0.        , 0.        , 0.        ,\n",
       "       0.        , 0.        , 0.        , 0.        , 0.        ,\n",
       "       0.        , 0.        , 0.        , 0.        , 0.        ,\n",
       "       0.        , 0.        , 0.        , 0.        , 0.        ,\n",
       "       0.        , 0.        , 0.        , 0.        , 0.        ,\n",
       "       0.        , 0.        , 0.        , 0.        , 0.        ])"
      ]
     },
     "execution_count": 33,
     "metadata": {},
     "output_type": "execute_result"
    }
   ],
   "source": [
    "precision_score(list(y_test), predictions, average= None)"
   ]
  },
  {
   "cell_type": "code",
   "execution_count": 34,
   "metadata": {},
   "outputs": [
    {
     "data": {
      "text/plain": [
       "'0.24.1'"
      ]
     },
     "execution_count": 34,
     "metadata": {},
     "output_type": "execute_result"
    }
   ],
   "source": [
    "sklearn.__version__"
   ]
  },
  {
   "cell_type": "code",
   "execution_count": null,
   "metadata": {},
   "outputs": [],
   "source": []
  }
 ],
 "metadata": {
  "kernelspec": {
   "display_name": "Python 3",
   "language": "python",
   "name": "python3"
  },
  "language_info": {
   "codemirror_mode": {
    "name": "ipython",
    "version": 3
   },
   "file_extension": ".py",
   "mimetype": "text/x-python",
   "name": "python",
   "nbconvert_exporter": "python",
   "pygments_lexer": "ipython3",
   "version": "3.7.1"
  }
 },
 "nbformat": 4,
 "nbformat_minor": 4
}
